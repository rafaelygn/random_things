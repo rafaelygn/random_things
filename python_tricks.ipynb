{
 "cells": [
  {
   "cell_type": "markdown",
   "metadata": {},
   "source": [
    "**String** <br>\n",
    "    f-String, r-string\n",
    "\n",
    "**Tuples** <br>\n",
    "    unpack, * and _\n",
    "\n",
    "**Functional Programming** <br>\n",
    "    Function <br>\n",
    "        \n",
    "        lambda, map, filter\n",
    "   Comprehension <br>\n",
    "        \n",
    "        List , Dict\n",
    "\n",
    "**Generators** <br>\n",
    "    Hack a number_password\n",
    "\n",
    "        Testar todas as possibilidades\n",
    "        porém sem precisar ter memória\n",
    "\n",
    "**Decorator** <br>\n",
    "    timeit, tryit, loggit, curry\n",
    "\n",
    "        Mostrar alguns exemplos de decorators que são bastante\n",
    "        utilizados\n",
    "\n",
    "**Class** <br>\n",
    "    \n",
    "    speciak methods (\\__init__, \\__len__, \\__add__, ...)\n",
    "\n",
    "        Por que somar duas listas, dois inteiros e dois arrays\n",
    "        dão resultados diferentes?\n",
    "        Podemos utilizar esses recursos na nossa classe!\n",
    "\n",
    "    decorators again!\n",
    "\n",
    "        Tenho minha classe pronta, mas queria alterar um formato\n",
    "        de input da minha classe, mas sem alterar o código dela\n"
   ]
  },
  {
   "cell_type": "code",
   "execution_count": 1,
   "metadata": {},
   "outputs": [],
   "source": [
    "# Import packages\n",
    "import os\n",
    "import time\n",
    "import numpy as np\n",
    "from collections import namedtuple\n",
    "from sys import getsizeof\n",
    "from getpass import getpass"
   ]
  },
  {
   "cell_type": "markdown",
   "metadata": {},
   "source": [
    "## STRINGS"
   ]
  },
  {
   "cell_type": "code",
   "execution_count": 3,
   "metadata": {},
   "outputs": [
    {
     "name": "stdout",
     "output_type": "stream",
     "text": [
      "O Brasil(BR) com a população de 220,000,000 teve em 2017 o PIB de U$ 2.06 trihões. \n",
      "Poranto a renda per capita do Brasil é 9,345.454545454546 dólares\n"
     ]
    }
   ],
   "source": [
    "# Setting some variables\n",
    "country = 'Brasil'\n",
    "cc = 'BR'\n",
    "pop = 220_000_000\n",
    "pib = 2_056_000_000_000\n",
    "\n",
    "# F-STRING\n",
    "msg_f = (\n",
    "    f'O {country}({cc}) com a população de {pop:,} teve em 2017 '\n",
    "    f'o PIB de U$ {(pib/10**12):.2f} trihões. \\nPoranto a renda per '\n",
    "    f'capita do {country} é {pib/pop:,} dólares'\n",
    ")\n",
    "\n",
    "print(msg_f)"
   ]
  },
  {
   "cell_type": "code",
   "execution_count": 4,
   "metadata": {},
   "outputs": [
    {
     "name": "stdout",
     "output_type": "stream",
     "text": [
      "O {country}({cc}) com a população de {pop:,} teve em 2017 o PIB de U$ {(pib/10**12):.2f} trihões. \\nPoranto a renda per capita do {country} é {pib/pop:,} dólares\n"
     ]
    }
   ],
   "source": [
    "# R-STRING\n",
    "msg_r = (\n",
    "    r'O {country}({cc}) com a população de {pop:,} teve em 2017 '\n",
    "    r'o PIB de U$ {(pib/10**12):.2f} trihões. \\nPoranto a renda per '\n",
    "    r'capita do {country} é {pib/pop:,} dólares'\n",
    ")\n",
    "print(msg_r)"
   ]
  },
  {
   "cell_type": "code",
   "execution_count": 5,
   "metadata": {},
   "outputs": [
    {
     "name": "stdout",
     "output_type": "stream",
     "text": [
      "O {country}({cc}) com a população de {pop:,} teve em 2017 o PIB de U$ {(pib/10**12):.2f} trihões. \n",
      "Poranto a renda per capita do {country} é {pib/pop:,} dólares\n"
     ]
    }
   ],
   "source": [
    "# STRING\n",
    "msg_r = (\n",
    "    'O {country}({cc}) com a população de {pop:,} teve em 2017 '\n",
    "    'o PIB de U$ {(pib/10**12):.2f} trihões. \\nPoranto a renda per '\n",
    "    'capita do {country} é {pib/pop:,} dólares'\n",
    ")\n",
    "print(msg_r)"
   ]
  },
  {
   "cell_type": "markdown",
   "metadata": {},
   "source": [
    "## Tuples"
   ]
  },
  {
   "cell_type": "code",
   "execution_count": 6,
   "metadata": {},
   "outputs": [
    {
     "name": "stdout",
     "output_type": "stream",
     "text": [
      "Type: <class 'tuple'>\n",
      "True\n"
     ]
    }
   ],
   "source": [
    "tup = (1, 2, 3, 4)\n",
    "print('Type:', type(tup))\n",
    "\n",
    "\n",
    "def silly_function():\n",
    "    return 1, 2, 3, 4\n",
    "\n",
    "\n",
    "# Let's check if they are the same\n",
    "print(tup == silly_function())\n"
   ]
  },
  {
   "cell_type": "code",
   "execution_count": 7,
   "metadata": {},
   "outputs": [
    {
     "name": "stdout",
     "output_type": "stream",
     "text": [
      "1 2 3 4\n"
     ]
    }
   ],
   "source": [
    "# unpack tuples\n",
    "a, b, c, d = silly_function()\n",
    "print(a, b, c, d)"
   ]
  },
  {
   "cell_type": "code",
   "execution_count": 17,
   "metadata": {},
   "outputs": [
    {
     "name": "stdout",
     "output_type": "stream",
     "text": [
      "1 2 4\n"
     ]
    }
   ],
   "source": [
    "# ignore some item\n",
    "a, b, _, d = silly_function()\n",
    "print(a, b, d)"
   ]
  },
  {
   "cell_type": "code",
   "execution_count": 19,
   "metadata": {},
   "outputs": [
    {
     "name": "stdout",
     "output_type": "stream",
     "text": [
      "lgbm_model.pkl\n"
     ]
    }
   ],
   "source": [
    "_, filename = os.path.split('/workspace/yoshraf/project/model/lgbm_model.pkl')\n",
    "print(filename)"
   ]
  },
  {
   "cell_type": "code",
   "execution_count": 16,
   "metadata": {},
   "outputs": [
    {
     "name": "stdout",
     "output_type": "stream",
     "text": [
      "1 2 [3, 4]\n"
     ]
    }
   ],
   "source": [
    "# * operator\n",
    "a, b, *c = silly_function()\n",
    "print(a, b, c)\n",
    "# c, now, it's a lis"
   ]
  },
  {
   "cell_type": "code",
   "execution_count": 21,
   "metadata": {},
   "outputs": [
    {
     "name": "stdout",
     "output_type": "stream",
     "text": [
      "JP (35.689, 139.691)\n"
     ]
    }
   ],
   "source": [
    "'''\n",
    "NAMED TUPLES\n",
    "Here we create a Named Tuple Class\n",
    "So, we must named it and set its methods\n",
    "'''\n",
    "City = namedtuple('City', 'name country population coordinates')\n",
    "tokyo = City('Tokyo', 'JP', 36_933, (35.689, 139.691))\n",
    "print(tokyo.country, tokyo.coordinates)"
   ]
  },
  {
   "cell_type": "markdown",
   "metadata": {},
   "source": [
    "## Functional Programming <br>\n",
    "**Map, Filter**"
   ]
  },
  {
   "cell_type": "code",
   "execution_count": 23,
   "metadata": {},
   "outputs": [
    {
     "name": "stdout",
     "output_type": "stream",
     "text": [
      "[1, 4, 9, 16, 25]\n"
     ]
    }
   ],
   "source": [
    "original_list = [1, 2, 3, 4, 5]\n",
    "\n",
    "# FUNCTIONS MAP, FILTER and LAMBDA\n",
    "# Usual way\n",
    "new_list = []\n",
    "for element in original_list:\n",
    "    result = element**2\n",
    "    new_list.append(result)\n",
    "    \n",
    "print(new_list)"
   ]
  },
  {
   "cell_type": "code",
   "execution_count": 24,
   "metadata": {},
   "outputs": [
    {
     "data": {
      "text/plain": [
       "[1, 4, 9, 16, 25]"
      ]
     },
     "execution_count": 24,
     "metadata": {},
     "output_type": "execute_result"
    }
   ],
   "source": [
    "# Map & lambda\n",
    "def lf_map(x): return x**2\n",
    "list(map(lf_map, original_list))"
   ]
  },
  {
   "cell_type": "code",
   "execution_count": 25,
   "metadata": {},
   "outputs": [
    {
     "data": {
      "text/plain": [
       "[2, 4]"
      ]
     },
     "execution_count": 25,
     "metadata": {},
     "output_type": "execute_result"
    }
   ],
   "source": [
    "# filter & Lambda\n",
    "def lf_f(x): return x % 2 == 0\n",
    "list(filter(lf_f, original_list))"
   ]
  },
  {
   "cell_type": "code",
   "execution_count": 26,
   "metadata": {},
   "outputs": [
    {
     "data": {
      "text/plain": [
       "[4, 16]"
      ]
     },
     "execution_count": 26,
     "metadata": {},
     "output_type": "execute_result"
    }
   ],
   "source": [
    "# Map & Filter & lambda\n",
    "list(map(lf_map, list(filter(lf_f, original_list))))"
   ]
  },
  {
   "cell_type": "markdown",
   "metadata": {},
   "source": [
    "**List Comprehension**"
   ]
  },
  {
   "cell_type": "code",
   "execution_count": 28,
   "metadata": {},
   "outputs": [
    {
     "name": "stdout",
     "output_type": "stream",
     "text": [
      "[1, 4, 9, 16, 25]\n",
      "[4, 16]\n",
      "[nan, 4, nan, 16, nan]\n"
     ]
    }
   ],
   "source": [
    "# Sintaxe: [ EXPRESSION for element in list if CONDITION]\n",
    "new_list = [element**2 for element in original_list]\n",
    "print(new_list)\n",
    "\n",
    "# List comprehension with condition\n",
    "new_list = [element**2 for element in original_list if element % 2 == 0]\n",
    "print(new_list)\n",
    "\n",
    "# List comprehension with if and else\n",
    "new_list = [element**2 if element %\n",
    "            2 == 0 else np.nan for element in original_list]\n",
    "print(new_list)"
   ]
  },
  {
   "cell_type": "markdown",
   "metadata": {},
   "source": [
    "**Exercise**"
   ]
  },
  {
   "cell_type": "code",
   "execution_count": 31,
   "metadata": {},
   "outputs": [
    {
     "data": {
      "text/plain": [
       "['201501',\n",
       " '201502',\n",
       " '201503',\n",
       " '201504',\n",
       " '201505',\n",
       " '201506',\n",
       " '201507',\n",
       " '201508',\n",
       " '201509',\n",
       " '201510',\n",
       " '201511',\n",
       " '201512',\n",
       " '201601',\n",
       " '201602',\n",
       " '201603',\n",
       " '201604',\n",
       " '201605',\n",
       " '201606',\n",
       " '201607',\n",
       " '201608',\n",
       " '201609',\n",
       " '201610',\n",
       " '201611',\n",
       " '201612']"
      ]
     },
     "execution_count": 31,
     "metadata": {},
     "output_type": "execute_result"
    }
   ],
   "source": [
    "# 1. Label axis X in date format {YYYYMM}\n",
    "[str(year*100 + month) for year in list(range(2015, 2017))\n",
    "                       for month in list(range(1, 13))]\n"
   ]
  },
  {
   "cell_type": "code",
   "execution_count": 34,
   "metadata": {},
   "outputs": [
    {
     "name": "stdout",
     "output_type": "stream",
     "text": [
      "[('l1', 0.001, None), ('l1', 0.001, 'balanced'), ('l1', 0.01, None), ('l1', 0.01, 'balanced'), ('l1', 0.1, None), ('l1', 0.1, 'balanced'), ('l1', 1, None), ('l1', 1, 'balanced'), ('l2', 0.001, None), ('l2', 0.001, 'balanced'), ('l2', 0.01, None), ('l2', 0.01, 'balanced'), ('l2', 0.1, None), ('l2', 0.1, 'balanced'), ('l2', 1, None), ('l2', 1, 'balanced')]\n"
     ]
    }
   ],
   "source": [
    "# 2. Exploration to Grid Search\n",
    "\n",
    "penalty_list = ['l1', 'l2']\n",
    "c_list = [0.001, 0.01, 0.1, 1]\n",
    "class_weight_list = [None, 'balanced']\n",
    "\n",
    "# Usual Way\n",
    "random_search = []\n",
    "for p in penalty_list:\n",
    "    for c in c_list:\n",
    "        for w in class_weight_list:\n",
    "            random_search.append((p, c, w))\n",
    "print(random_search)"
   ]
  },
  {
   "cell_type": "code",
   "execution_count": 33,
   "metadata": {},
   "outputs": [
    {
     "name": "stdout",
     "output_type": "stream",
     "text": [
      "[('l1', 0.001, None), ('l1', 0.001, 'balanced'), ('l1', 0.01, None), ('l1', 0.01, 'balanced'), ('l1', 0.1, None), ('l1', 0.1, 'balanced'), ('l1', 1, None), ('l1', 1, 'balanced'), ('l2', 0.001, None), ('l2', 0.001, 'balanced'), ('l2', 0.01, None), ('l2', 0.01, 'balanced'), ('l2', 0.1, None), ('l2', 0.1, 'balanced'), ('l2', 1, None), ('l2', 1, 'balanced')]\n"
     ]
    }
   ],
   "source": [
    "# List Comprehension with more than 1 list\n",
    "random_search = [(p, c, w) for p in penalty_list\n",
    "                 for c in c_list\n",
    "                 for w in class_weight_list]\n",
    "print(random_search)"
   ]
  },
  {
   "cell_type": "markdown",
   "metadata": {},
   "source": [
    "Until now, we iterate over lists sequentially <br>\n",
    "But if, we want to iterate over 2 lists in parallel <br>\n",
    "Use zip function!"
   ]
  },
  {
   "cell_type": "code",
   "execution_count": 35,
   "metadata": {},
   "outputs": [
    {
     "name": "stdout",
     "output_type": "stream",
     "text": [
      "one 1\n",
      "two 2\n",
      "three 3\n"
     ]
    }
   ],
   "source": [
    "for string, number in zip(['one', 'two', 'three'], [1, 2, 3]):\n",
    "    print(string, number)"
   ]
  },
  {
   "cell_type": "markdown",
   "metadata": {},
   "source": [
    "**Dictionaries**"
   ]
  },
  {
   "cell_type": "code",
   "execution_count": 37,
   "metadata": {},
   "outputs": [
    {
     "name": "stdout",
     "output_type": "stream",
     "text": [
      "{'one': 1, 'two': 2, 'three': 3}\n"
     ]
    }
   ],
   "source": [
    "# Transform 2 list into a dict\n",
    "dict_from_lists = dict(zip(['one', 'two', 'three'], [1, 2, 3]))\n",
    "print(dict_from_lists)"
   ]
  },
  {
   "cell_type": "code",
   "execution_count": 38,
   "metadata": {},
   "outputs": [
    {
     "name": "stdout",
     "output_type": "stream",
     "text": [
      "{'United States': 1, 'Russia': 7}\n"
     ]
    }
   ],
   "source": [
    "dial_codes = [\n",
    "    (86, 'China'),\n",
    "    (91, 'India'),\n",
    "    (1, 'United States'),\n",
    "    (62, 'Indonesia'),\n",
    "    (55, 'Brazil'),\n",
    "    (92, 'Pakistan'),\n",
    "    (880, 'Bangladesh'),\n",
    "    (234, 'Nigeria'),\n",
    "    (7, 'Russia'),\n",
    "    (81, 'Japan')\n",
    "]\n",
    "\n",
    "# Create a dictionary from tuples inside a list\n",
    "country_code_dict = {country: code for code,\n",
    "                     country in dial_codes if code < 50}\n",
    "\n",
    "print(country_code_dict)"
   ]
  },
  {
   "cell_type": "code",
   "execution_count": 39,
   "metadata": {},
   "outputs": [
    {
     "data": {
      "text/plain": [
       "{1: 'UNITED STATES', 7: 'RUSSIA'}"
      ]
     },
     "execution_count": 39,
     "metadata": {},
     "output_type": "execute_result"
    }
   ],
   "source": [
    "# Rather than use zip, you can use dict comprehension\n",
    "{code: country.upper() for country, code in country_code_dict.items()}"
   ]
  },
  {
   "cell_type": "code",
   "execution_count": 42,
   "metadata": {},
   "outputs": [
    {
     "name": "stdout",
     "output_type": "stream",
     "text": [
      "Iterate over its keys\n",
      "United States\n",
      "Russia\n",
      "\n",
      "Iterate over its values\n",
      "1\n",
      "7\n",
      "\n",
      "Iterate over both: key and value\n",
      "United States 1\n",
      "Russia 7\n"
     ]
    }
   ],
   "source": [
    "# But if you don't want a dictionary, you can iterate in a for loop\n",
    "print('Iterate over its keys')\n",
    "for key in country_code_dict.keys():\n",
    "    print(key)\n",
    "\n",
    "print('\\nIterate over its values')\n",
    "for value in country_code_dict.values():\n",
    "    print(value)\n",
    "\n",
    "print('\\nIterate over both: key and value')\n",
    "for key, value in country_code_dict.items():\n",
    "    print(key, value)"
   ]
  },
  {
   "cell_type": "markdown",
   "metadata": {},
   "source": [
    "## Generators\n",
    "\n",
    "Generator doesn't hold the result in memory! <br>\n",
    "It yields one result at time <br>\n",
    "\n",
    "Setting a usual function <br>\n",
    "That return a list\n"
   ]
  },
  {
   "cell_type": "code",
   "execution_count": 43,
   "metadata": {},
   "outputs": [],
   "source": [
    "# this function returns a list\n",
    "def square_numbers(original_list: list) -> list:\n",
    "    result = []\n",
    "    for element in original_list:\n",
    "        result.append(element**2)\n",
    "    return result\n",
    "\n",
    "\n",
    "# This function returns a generator\n",
    "def gen_square_numbers(original_list: list) -> int:\n",
    "    for element in original_list:\n",
    "        yield (element**2)\n"
   ]
  },
  {
   "cell_type": "code",
   "execution_count": 46,
   "metadata": {},
   "outputs": [
    {
     "name": "stdout",
     "output_type": "stream",
     "text": [
      "1\n",
      "4\n",
      "9\n"
     ]
    }
   ],
   "source": [
    "# Using a Generator\n",
    "gen_result = gen_square_numbers(original_list)\n",
    "print(next(gen_result))\n",
    "print(next(gen_result))\n",
    "print(next(gen_result))"
   ]
  },
  {
   "cell_type": "code",
   "execution_count": 47,
   "metadata": {},
   "outputs": [
    {
     "name": "stdout",
     "output_type": "stream",
     "text": [
      "16\n",
      "25\n"
     ]
    }
   ],
   "source": [
    "for element in gen_result:\n",
    "    print(element)"
   ]
  },
  {
   "cell_type": "code",
   "execution_count": 48,
   "metadata": {},
   "outputs": [
    {
     "ename": "StopIteration",
     "evalue": "",
     "output_type": "error",
     "traceback": [
      "\u001b[1;31m---------------------------------------------------------------------------\u001b[0m",
      "\u001b[1;31mStopIteration\u001b[0m                             Traceback (most recent call last)",
      "\u001b[1;32m<ipython-input-48-52fbbedd35d9>\u001b[0m in \u001b[0;36m<module>\u001b[1;34m\u001b[0m\n\u001b[1;32m----> 1\u001b[1;33m \u001b[0mprint\u001b[0m\u001b[1;33m(\u001b[0m\u001b[0mnext\u001b[0m\u001b[1;33m(\u001b[0m\u001b[0mgen_result\u001b[0m\u001b[1;33m)\u001b[0m\u001b[1;33m)\u001b[0m\u001b[1;33m\u001b[0m\u001b[1;33m\u001b[0m\u001b[0m\n\u001b[0m",
      "\u001b[1;31mStopIteration\u001b[0m: "
     ]
    }
   ],
   "source": [
    "print(next(gen_result))"
   ]
  },
  {
   "cell_type": "code",
   "execution_count": 49,
   "metadata": {},
   "outputs": [
    {
     "name": "stdout",
     "output_type": "stream",
     "text": [
      "<generator object <genexpr> at 0x000001FFFE3D06D8>\n"
     ]
    }
   ],
   "source": [
    "# We can write the generator as list comprehension!\n",
    "gen_result = (element**2 for element in original_list)\n",
    "print(gen_result)"
   ]
  },
  {
   "cell_type": "markdown",
   "metadata": {},
   "source": [
    "Exercise, descovery this password"
   ]
  },
  {
   "cell_type": "code",
   "execution_count": 60,
   "metadata": {},
   "outputs": [
    {
     "name": "stdout",
     "output_type": "stream",
     "text": [
      "Password: ········\n"
     ]
    }
   ],
   "source": [
    "password = getpass(prompt='Password: ')"
   ]
  },
  {
   "cell_type": "code",
   "execution_count": 63,
   "metadata": {},
   "outputs": [
    {
     "name": "stdout",
     "output_type": "stream",
     "text": [
      "Size of iterator: 0.12 KB\n",
      "It took 0.03 seconds\n",
      "Size of iterator: 824.46 KB\n",
      "It took 0.02 seconds\n"
     ]
    }
   ],
   "source": [
    "def hack_password(iterator, see_size=False):\n",
    "    if see_size:\n",
    "        print(f'Size of iterator: {getsizeof(iterator)/10**3:.2f} KB')\n",
    "    for try_pssw in iterator:\n",
    "        if try_pssw == password:\n",
    "            print(f'The password is {try_pssw}')\n",
    "            return try_pssw  \n",
    "\n",
    "\n",
    "\n",
    "# Let's Compare a list and a generator!\n",
    "ti = time.perf_counter()\n",
    "gen_password = (try_pssw for try_pssw in range(10**5))\n",
    "hack_password(gen_password, see_size=True)\n",
    "tf = time.perf_counter()\n",
    "print(f'It took {(tf -ti):.2f} seconds')\n",
    "\n",
    "ti = time.perf_counter()\n",
    "lis_password = [try_pssw for try_pssw in range(10**5)]\n",
    "hack_password(lis_password, see_size=True)\n",
    "tf = time.perf_counter()\n",
    "print(f'It took {(tf -ti):.2f} seconds')"
   ]
  },
  {
   "cell_type": "markdown",
   "metadata": {},
   "source": [
    "## * Args and  ** Kwargs"
   ]
  },
  {
   "cell_type": "code",
   "execution_count": 64,
   "metadata": {},
   "outputs": [
    {
     "name": "stdout",
     "output_type": "stream",
     "text": [
      "*args:  lala lele lili\n",
      "args:  ('lala', 'lele', 'lili')\n",
      "kwargs:  {'kw': 1, 'kw2': 2}\n"
     ]
    }
   ],
   "source": [
    "# args and kwargs\n",
    "def silly_function_2(*args, **kwargs):\n",
    "    print('*args: ',*args)\n",
    "    print('args: ',args)\n",
    "    print('kwargs: ', kwargs)\n",
    "    return None\n",
    "\n",
    "silly_function_2('lala', 'lele', 'lili', kw=1, kw2=2)"
   ]
  },
  {
   "cell_type": "code",
   "execution_count": 71,
   "metadata": {},
   "outputs": [
    {
     "name": "stdout",
     "output_type": "stream",
     "text": [
      "*args:  lala lele lili\n",
      "args:  ('lala', 'lele', 'lili')\n",
      "kwargs:  {'kw': 1, 'kw2': 2}\n",
      "'kw' is an invalid keyword argument for print()\n"
     ]
    }
   ],
   "source": [
    "# args and kwargs\n",
    "def silly_function_2(*args, **kwargs):\n",
    "    print('*args: ',*args)\n",
    "    print('args: ',args)\n",
    "    print('kwargs: ', kwargs)\n",
    "    try:\n",
    "        print('**kwargs', **kwargs)\n",
    "    except Exception as e:\n",
    "        print(e)\n",
    "    return None\n",
    "\n",
    "silly_function_2('lala', 'lele', 'lili', kw=1, kw2=2)"
   ]
  },
  {
   "cell_type": "code",
   "execution_count": 66,
   "metadata": {},
   "outputs": [
    {
     "name": "stdout",
     "output_type": "stream",
     "text": [
      "Do log time\n",
      "{'criterion': 'gini', 'max_depth': 10, 'min_samples_leaf': 15}\n",
      "DecisionTreeClassifier(class_weight=None, criterion='gini', max_depth=10,\n",
      "            max_features=None, max_leaf_nodes=None,\n",
      "            min_impurity_decrease=0.0, min_impurity_split=None,\n",
      "            min_samples_leaf=15, min_samples_split=2,\n",
      "            min_weight_fraction_leaf=0.0, presort=False, random_state=None,\n",
      "            splitter='best')\n"
     ]
    }
   ],
   "source": [
    "def train_one_model(log_time=None, *args, **kwargs):\n",
    "    if log_time:\n",
    "        print('Do log time')\n",
    "    print(kwargs)\n",
    "    from sklearn.tree import DecisionTreeClassifier\n",
    "    clf = DecisionTreeClassifier(**kwargs)\n",
    "    print(clf)\n",
    "    return None\n",
    "\n",
    "train_one_model(\n",
    "    log_time=True,\n",
    "    criterion='gini', max_depth=10, min_samples_leaf=15)"
   ]
  },
  {
   "cell_type": "code",
   "execution_count": 74,
   "metadata": {},
   "outputs": [
    {
     "name": "stdout",
     "output_type": "stream",
     "text": [
      "{'log_time': True, 'tree_model': {'criterion': 'gini', 'max_depth': 10, 'min_samples_leaf': 15}, 'logit_reg': {'l1': 0, 'l2': 0}}\n",
      "There is log time in **kwargs\n",
      "True\n",
      "There is tree model in ** kwargs\n",
      "{'criterion': 'gini', 'max_depth': 10, 'min_samples_leaf': 15}\n",
      "*args: \n",
      "args:  ()\n",
      "kwargs:  {'criterion': 'gini', 'max_depth': 10, 'min_samples_leaf': 15}\n",
      "'criterion' is an invalid keyword argument for print()\n",
      "DecisionTreeClassifier(class_weight=None, criterion='gini', max_depth=10,\n",
      "            max_features=None, max_leaf_nodes=None,\n",
      "            min_impurity_decrease=0.0, min_impurity_split=None,\n",
      "            min_samples_leaf=15, min_samples_split=2,\n",
      "            min_weight_fraction_leaf=0.0, presort=False, random_state=None,\n",
      "            splitter='best')\n"
     ]
    }
   ],
   "source": [
    "def train_many_models(**kwargs):\n",
    "    print(kwargs)\n",
    "    if 'log_time' in kwargs:\n",
    "        print('There is log time in **kwargs')\n",
    "        print(kwargs['log_time'])\n",
    "    if 'tree_model' in kwargs:\n",
    "        print('There is tree model in ** kwargs')\n",
    "        print(kwargs['tree_model'])\n",
    "        silly_function_2(**kwargs['tree_model'])\n",
    "        from sklearn.tree import DecisionTreeClassifier\n",
    "        clf = DecisionTreeClassifier(**kwargs['tree_model'])\n",
    "        print(clf)\n",
    "    if 'logit_reg' in kwargs:\n",
    "        pass \n",
    "    return None\n",
    "\n",
    "train_many_models_kwargs = {\n",
    "    'log_time': True,\n",
    "    'tree_model': {'criterion': 'gini', 'max_depth': 10, 'min_samples_leaf': 15},\n",
    "    'logit_reg': {'l1': 0, 'l2': 0}\n",
    "}\n",
    "\n",
    "# First way\n",
    "train_many_models(\n",
    "    log_time= True,\n",
    "    tree_model= {'criterion': 'gini', 'max_depth': 10, 'min_samples_leaf': 15},\n",
    "    logit_reg= {'l1': 0, 'l2': 0})\n"
   ]
  },
  {
   "cell_type": "code",
   "execution_count": 73,
   "metadata": {},
   "outputs": [
    {
     "name": "stdout",
     "output_type": "stream",
     "text": [
      "{'log_time': True, 'tree_model': {'criterion': 'gini', 'max_depth': 10, 'min_samples_leaf': 15}, 'logit_reg': {'l1': 0, 'l2': 0}}\n",
      "There is log time in **kwargs\n",
      "True\n",
      "There is tree model in ** kwargs\n",
      "{'criterion': 'gini', 'max_depth': 10, 'min_samples_leaf': 15}\n",
      "*args: \n",
      "args:  ()\n",
      "kwargs:  {'criterion': 'gini', 'max_depth': 10, 'min_samples_leaf': 15}\n",
      "'criterion' is an invalid keyword argument for print()\n",
      "DecisionTreeClassifier(class_weight=None, criterion='gini', max_depth=10,\n",
      "            max_features=None, max_leaf_nodes=None,\n",
      "            min_impurity_decrease=0.0, min_impurity_split=None,\n",
      "            min_samples_leaf=15, min_samples_split=2,\n",
      "            min_weight_fraction_leaf=0.0, presort=False, random_state=None,\n",
      "            splitter='best')\n"
     ]
    }
   ],
   "source": [
    "# Second way\n",
    "train_many_models(**train_many_models_kwargs)"
   ]
  },
  {
   "cell_type": "markdown",
   "metadata": {},
   "source": [
    "## Decorators"
   ]
  },
  {
   "cell_type": "code",
   "execution_count": 79,
   "metadata": {},
   "outputs": [
    {
     "name": "stdout",
     "output_type": "stream",
     "text": [
      "Size of iterator: 824.46 KB\n",
      "The hack_password function took 0.01 s\n"
     ]
    }
   ],
   "source": [
    "'''\n",
    "Decoradores de função nos permite marcar funções no código fonte para modificar\n",
    "o seu comportamento de alguma maneira. É um recurso poderoso, mas dominá-lo\n",
    "exige compreender as clouseres\n",
    "\n",
    "Um decorador é um invocável (callable) que aceita outra função como argumento\n",
    "(a função decorada). O decorador pode realizar algum processamento com a \n",
    "função decorada e devolvê-la ou substituí-la por outra função ou um objeto\n",
    "'''\n",
    "\n",
    "# timeit decorator\n",
    "def timeit(method: callable) -> callable:\n",
    "\n",
    "    def time_method(*args, **kwargs):\n",
    "        ti = time.perf_counter()\n",
    "        method_result = method(*args, **kwargs)\n",
    "        tf = time.perf_counter()\n",
    "        print(f'The {method.__name__} function took {(tf -ti):.2f} s')\n",
    "        return method_result\n",
    "    return time_method\n",
    "\n",
    "# Altering original function\n",
    "# Now we can measure how long a function lasts\n",
    "@timeit\n",
    "def hack_password(iterator, see_size=False):\n",
    "    '''\n",
    "    Through an iterator we discover a numeric password\n",
    "    '''\n",
    "    if see_size:\n",
    "        print(f'Size of iterator: {getsizeof(iterator)/10**3:.2f} KB')\n",
    "    for try_pssw in iterator:\n",
    "        if try_pssw == password:\n",
    "            print(f'The Password is {try_pssw}')\n",
    "            return try_pssw\n",
    "\n",
    "# Let's experiment it\n",
    "hack_password(lis_password, see_size=True)"
   ]
  },
  {
   "cell_type": "code",
   "execution_count": 80,
   "metadata": {},
   "outputs": [
    {
     "name": "stdout",
     "output_type": "stream",
     "text": [
      "time_method\n",
      "None\n"
     ]
    }
   ],
   "source": [
    "'''\n",
    "O decorador timeit implementado tem algumas deficiências:\n",
    "Ele não aceita argumentos nomeados e mascara __name__\n",
    "e __doc__ da função decorada.\n",
    "\n",
    "Para entender isso o @timeit\n",
    "\n",
    "@timeit\n",
    "def hack_password(arg):\n",
    "    [do something]\n",
    "    return result\n",
    "\n",
    "é equivalente á:\n",
    "\n",
    "def hack_password(arg):\n",
    "    [do something]\n",
    "    return result\n",
    "\n",
    "hack_password = timeit(hack_password)\n",
    "'''\n",
    "\n",
    "print(hack_password.__name__)\n",
    "print(hack_password.__doc__)"
   ]
  },
  {
   "cell_type": "code",
   "execution_count": 81,
   "metadata": {},
   "outputs": [
    {
     "name": "stdout",
     "output_type": "stream",
     "text": [
      "hack_password\n",
      "\n",
      "    Through an iterator we discover a numeric password\n",
      "    \n"
     ]
    }
   ],
   "source": [
    "'''Para corrigir isso podemos utilizar o functools.wraps\n",
    "Assim os atributos importantes relevantes também são copiados'''\n",
    "\n",
    "from functools import wraps \n",
    "\n",
    "def timeit(method: callable) -> callable:\n",
    "    @wraps(method)\n",
    "    def time_method(*args, **kwargs):\n",
    "        ti = time.perf_counter()\n",
    "        method_result = method(*args, **kwargs)\n",
    "        tf = time.perf_counter()\n",
    "        print(f'The {method.__name__} function took {(tf -ti):.2f} s')\n",
    "        return method_result\n",
    "    return time_method\n",
    "\n",
    "# Altering original function\n",
    "# Now we can measure how long a function lasts\n",
    "@timeit\n",
    "def hack_password(iterator, see_size=False):\n",
    "    '''\n",
    "    Through an iterator we discover a numeric password\n",
    "    '''\n",
    "    if see_size:\n",
    "        print(f'Size of iterator: {getsizeof(iterator)/10**3:.2f} KB')\n",
    "    for try_pssw in iterator:\n",
    "        if try_pssw == password:\n",
    "            print(f'The Password is {try_pssw}')\n",
    "            break\n",
    "\n",
    "print(hack_password.__name__)\n",
    "print(hack_password.__doc__)"
   ]
  },
  {
   "cell_type": "code",
   "execution_count": 86,
   "metadata": {},
   "outputs": [
    {
     "name": "stdout",
     "output_type": "stream",
     "text": [
      "hack_password_v1.log\n",
      "Size of iterator: 0.14 KB\n",
      "Ran with args ([0, 1, 2, 3, 4, 5, 6, 7, 8, 9],), and kwargs {'see_size': True} and result: Nada foi encontrado\n"
     ]
    },
    {
     "data": {
      "text/plain": [
       "'Nada foi encontrado'"
      ]
     },
     "execution_count": 86,
     "metadata": {},
     "output_type": "execute_result"
    }
   ],
   "source": [
    "# Another decorator\n",
    "def my_logger(original_func):\n",
    "\n",
    "    import logging\n",
    "    file = f'{original_func.__name__}.log'\n",
    "    print(file)\n",
    "    logging.basicConfig(filename=file,\n",
    "    level= logging.INFO)\n",
    "\n",
    "    def wrapper(*args, **kwargs):\n",
    "        result = original_func(*args, **kwargs)\n",
    "        log = (\n",
    "            f'Ran with args {args}, and kwargs {kwargs} '\n",
    "            f'and result: {result}'\n",
    "        )\n",
    "        logging.info(log)\n",
    "        print(log)\n",
    "        return result\n",
    "    \n",
    "    return wrapper\n",
    "\n",
    "@my_logger\n",
    "def hack_password_v1(iterator, see_size=False):\n",
    "    '''\n",
    "    Through an iterator we discover a numeric password\n",
    "    '''\n",
    "    if see_size:\n",
    "        print(f'Size of iterator: {getsizeof(iterator)/10**3:.2f} KB')\n",
    "    for try_pssw in iterator:\n",
    "        if try_pssw == password:\n",
    "            print(f'The Password is {try_pssw}')\n",
    "            return try_pssw\n",
    "    return 'Nada foi encontrado'\n",
    "            \n",
    "        \n",
    "hack_password_v1(lis_password[:10], see_size=True)"
   ]
  },
  {
   "cell_type": "markdown",
   "metadata": {},
   "source": [
    "## Class"
   ]
  },
  {
   "cell_type": "code",
   "execution_count": 87,
   "metadata": {},
   "outputs": [],
   "source": [
    "\n",
    "# Here we'll see a vector basic class\n",
    "# Let's understand better how special methods works\n",
    "class Vector:\n",
    "\n",
    "    def __init__(self, x=0, y=0):\n",
    "        self.x = x\n",
    "        self.y = y\n",
    "\n",
    "    def __repr__(self):\n",
    "        # Return the canonical string representation of the object.\n",
    "        # Without __repr__, it would return: \n",
    "        # <Vector object at 0x10e100070>.\n",
    "        return f'Vector({self.x},{self.y})'\n",
    "\n",
    "    def __abs__(self):\n",
    "        # This is the absolute value of your class\n",
    "        # in my case, it returns the euclidian distance\n",
    "        return (self.x**2 + self.y**2)**(0.5)\n",
    "\n",
    "    def __bool__(self):\n",
    "        return bool(self.x or self.y)\n",
    "\n",
    "    def __add__(self, other):\n",
    "        # This method allows you sum 2 vectors class \n",
    "        # as a float/integers\n",
    "        x = self.x + other.x\n",
    "        y = self.y + other.y\n",
    "        return Vector(x, y)\n",
    "\n",
    "    def __add2__(self, other):\n",
    "        # This method allows you sum 2 vectors class \n",
    "        # as a string and then convert to a int\n",
    "        x = int(str(self.x) + str(other.x))\n",
    "        y = int(str(self.y) + str(other.y))\n",
    "        return Vector(x,y)\n",
    "\n",
    "    def __mul__(self, scalar):\n",
    "        # This method allows you product 2 vectors class\n",
    "        return Vector(self.x * scalar, self.y * scalar)\n",
    "\n",
    "    def __len__(self):\n",
    "        return 2"
   ]
  },
  {
   "cell_type": "code",
   "execution_count": 92,
   "metadata": {},
   "outputs": [
    {
     "name": "stdout",
     "output_type": "stream",
     "text": [
      "repr: Vector(3,4)\n",
      "abs:  5.0\n",
      "bool: True\n",
      "bool to null vector:  False\n",
      "len:  2\n",
      "len:  2\n",
      "add:  Vector(4,7)\n",
      "add:  Vector(4,7)\n",
      "add2:  Vector(31,43)\n",
      "mul * 3:  Vector(9,12)\n"
     ]
    }
   ],
   "source": [
    "v1 = Vector(3, 4)\n",
    "v2 = Vector(1, 3)\n",
    "\n",
    "print('repr:', repr(v1))\n",
    "print('abs: ',abs(v1))\n",
    "print('bool:', bool(v1))\n",
    "print('bool to null vector: ',bool(Vector()))\n",
    "print('len: ', len(v1))\n",
    "print('len: ', v1.__len__())\n",
    "print('add: ',v1 + v2)\n",
    "print('add: ',v1.__add__(v2))\n",
    "print('add2: ',v1.__add2__(v2))\n",
    "print('mul * 3: ', v1*3)"
   ]
  },
  {
   "cell_type": "markdown",
   "metadata": {},
   "source": [
    "## Closures"
   ]
  },
  {
   "cell_type": "code",
   "execution_count": 102,
   "metadata": {},
   "outputs": [
    {
     "name": "stdout",
     "output_type": "stream",
     "text": [
      "3\n",
      "6\n"
     ]
    }
   ],
   "source": [
    "# Se b não foi definida anterioramente, isso causará um erro\n",
    "# Isto é, b precisa ser uma variável global\n",
    "\n",
    "b = 6\n",
    "def f1(a):\n",
    "    print(a)\n",
    "    print(b)\n",
    "    \n",
    "f1(3)"
   ]
  },
  {
   "cell_type": "code",
   "execution_count": 99,
   "metadata": {},
   "outputs": [
    {
     "name": "stdout",
     "output_type": "stream",
     "text": [
      "3\n"
     ]
    },
    {
     "ename": "UnboundLocalError",
     "evalue": "local variable 'b' referenced before assignment",
     "output_type": "error",
     "traceback": [
      "\u001b[1;31m---------------------------------------------------------------------------\u001b[0m",
      "\u001b[1;31mUnboundLocalError\u001b[0m                         Traceback (most recent call last)",
      "\u001b[1;32m<ipython-input-99-a380b27e08e4>\u001b[0m in \u001b[0;36m<module>\u001b[1;34m\u001b[0m\n\u001b[0;32m      7\u001b[0m     \u001b[0mb\u001b[0m \u001b[1;33m=\u001b[0m \u001b[1;36m9\u001b[0m\u001b[1;33m\u001b[0m\u001b[1;33m\u001b[0m\u001b[0m\n\u001b[0;32m      8\u001b[0m \u001b[1;33m\u001b[0m\u001b[0m\n\u001b[1;32m----> 9\u001b[1;33m \u001b[0mf2\u001b[0m\u001b[1;33m(\u001b[0m\u001b[1;36m3\u001b[0m\u001b[1;33m)\u001b[0m\u001b[1;33m\u001b[0m\u001b[1;33m\u001b[0m\u001b[0m\n\u001b[0m",
      "\u001b[1;32m<ipython-input-99-a380b27e08e4>\u001b[0m in \u001b[0;36mf2\u001b[1;34m(a)\u001b[0m\n\u001b[0;32m      4\u001b[0m \u001b[1;32mdef\u001b[0m \u001b[0mf2\u001b[0m\u001b[1;33m(\u001b[0m\u001b[0ma\u001b[0m\u001b[1;33m)\u001b[0m\u001b[1;33m:\u001b[0m\u001b[1;33m\u001b[0m\u001b[1;33m\u001b[0m\u001b[0m\n\u001b[0;32m      5\u001b[0m     \u001b[0mprint\u001b[0m\u001b[1;33m(\u001b[0m\u001b[0ma\u001b[0m\u001b[1;33m)\u001b[0m\u001b[1;33m\u001b[0m\u001b[1;33m\u001b[0m\u001b[0m\n\u001b[1;32m----> 6\u001b[1;33m     \u001b[0mprint\u001b[0m\u001b[1;33m(\u001b[0m\u001b[0mb\u001b[0m\u001b[1;33m)\u001b[0m\u001b[1;33m\u001b[0m\u001b[1;33m\u001b[0m\u001b[0m\n\u001b[0m\u001b[0;32m      7\u001b[0m     \u001b[0mb\u001b[0m \u001b[1;33m=\u001b[0m \u001b[1;36m9\u001b[0m\u001b[1;33m\u001b[0m\u001b[1;33m\u001b[0m\u001b[0m\n\u001b[0;32m      8\u001b[0m \u001b[1;33m\u001b[0m\u001b[0m\n",
      "\u001b[1;31mUnboundLocalError\u001b[0m: local variable 'b' referenced before assignment"
     ]
    }
   ],
   "source": [
    "# Mesmo b sendo uma variável global isso causará um erro.\n",
    "# Pois estamos atribuindo b dentro de uma função\n",
    "# a função f2 primeiro entende que b é um variável local\n",
    "# e. portando, gera um erro.\n",
    "\n",
    "def f2(a):\n",
    "    print(a)\n",
    "    print(b)\n",
    "    b = 9\n",
    "\n",
    "f2(3)"
   ]
  },
  {
   "cell_type": "code",
   "execution_count": 103,
   "metadata": {},
   "outputs": [
    {
     "name": "stdout",
     "output_type": "stream",
     "text": [
      "3\n",
      "6\n"
     ]
    },
    {
     "data": {
      "text/plain": [
       "9"
      ]
     },
     "execution_count": 103,
     "metadata": {},
     "output_type": "execute_result"
    }
   ],
   "source": [
    "# Neste caso, como fixamos b como global mesmo dentro de f3\n",
    "# Isso signinifca que printaremos b como 6, mas ao final da\n",
    "# função f3 b terá valor de 9 globalmente\n",
    "# A princípio isso é mecanismo de defesa do Python,\n",
    "# Não queremos que as variáveis Globais sejam alteradas dentro\n",
    "# de uma função\n",
    "\n",
    "def f3(a):\n",
    "    global b\n",
    "    print(a)\n",
    "    print(b)\n",
    "    b = 9\n",
    "\n",
    "f3(3)\n",
    "b"
   ]
  },
  {
   "cell_type": "code",
   "execution_count": 104,
   "metadata": {},
   "outputs": [
    {
     "data": {
      "text/plain": [
       "11.0"
      ]
     },
     "execution_count": 104,
     "metadata": {},
     "output_type": "execute_result"
    }
   ],
   "source": [
    "# Queremos calcular a média que vai se atualizando diariamente\n",
    "\n",
    "# 1. Utilizando uma Classe\n",
    "class Averager():\n",
    "\n",
    "    def __init__(self):\n",
    "        self.series = []\n",
    "\n",
    "    def __call__(self, new_value):\n",
    "        self.series.append(new_value)\n",
    "        total = sum(self.series)\n",
    "        return total / len(self.series)\n",
    "    \n",
    "# Testando\n",
    "avg = Averager()\n",
    "avg(10)\n",
    "avg(11)\n",
    "avg(12)"
   ]
  },
  {
   "cell_type": "code",
   "execution_count": 105,
   "metadata": {},
   "outputs": [
    {
     "data": {
      "text/plain": [
       "11.0"
      ]
     },
     "execution_count": 105,
     "metadata": {},
     "output_type": "execute_result"
    }
   ],
   "source": [
    "\n",
    "# 2. Utilizando funções\n",
    "def make_averager():\n",
    "    '''\n",
    "    Quando chamada make_averager devolve um objeto função averager.\n",
    "    Sempre que um averager é chamado, ele concatena o argumento passado\n",
    "    á série e calcula a média atual.\n",
    "    '''\n",
    "    series = []\n",
    "\n",
    "    def averager(new_value):\n",
    "        series.append(new_value)\n",
    "        total = sum(series)\n",
    "        return  total / len(series)\n",
    "    \n",
    "    return averager\n",
    "\n",
    "# Testendo\n",
    "avg = make_averager()\n",
    "avg(10)\n",
    "avg(11)\n",
    "avg(12)"
   ]
  },
  {
   "cell_type": "code",
   "execution_count": 106,
   "metadata": {},
   "outputs": [
    {
     "data": {
      "text/plain": [
       "[10, 11, 12]"
      ]
     },
     "execution_count": 106,
     "metadata": {},
     "output_type": "execute_result"
    }
   ],
   "source": [
    "'''\n",
    "O local em que avg da classe Averager mantém o histórico é óbvio\n",
    "No atributo de instância self.series\n",
    "\n",
    "Mas em que lugar a função avg no segundo exmplo encontra series?\n",
    "\n",
    "Observe que series é uma variável local de make_avgerager\n",
    "porque a inicilização está no corpo dessa função. Porém,\n",
    "quando avg(10) é chamado, make_averager já retornou e seu escopo\n",
    "local não existe mais\n",
    "\n",
    "Em averager, series é uma variável livre. Esse é um termo técnico\n",
    "que indica que uma variável não tem associação no escopo local\n",
    "'''\n",
    "\n",
    "# onde está series?\n",
    "avg.__code__.co_freevars\n",
    "avg.__closure__[0].cell_contents"
   ]
  },
  {
   "cell_type": "code",
   "execution_count": 107,
   "metadata": {},
   "outputs": [
    {
     "data": {
      "text/plain": [
       "11.0"
      ]
     },
     "execution_count": 107,
     "metadata": {},
     "output_type": "execute_result"
    }
   ],
   "source": [
    "'''\n",
    "Uma Closure é uma função que preserva as associações com as \n",
    "variáveis livres existentes quando a função é definida, de modo\n",
    "que elas possam ser utilizadas posteriormente quando a função\n",
    "for chamada e o escopo de definição não estiver mais disponível\n",
    "\n",
    "Note que a única situação em que uma função pode precisar lidar\n",
    "com variáveis externas que não sejam globais é quando ela está\n",
    "aninhada em uma outra função\n",
    "'''\n",
    "\n",
    "# Declaração non local\n",
    "# Fazendo uma implementação mais eficiente que anterior\n",
    "\n",
    "def make_averager():\n",
    "    count = 0\n",
    "    total = 0\n",
    "\n",
    "    def averager(new_value):\n",
    "        nonlocal count, total\n",
    "        count += 1\n",
    "        total += new_value\n",
    "        return total / count\n",
    "\n",
    "    return averager\n",
    "\n",
    "avg = make_averager()\n",
    "avg(10)\n",
    "avg(11)\n",
    "avg(12)"
   ]
  },
  {
   "cell_type": "code",
   "execution_count": null,
   "metadata": {},
   "outputs": [],
   "source": []
  }
 ],
 "metadata": {
  "kernelspec": {
   "display_name": "Python 3",
   "language": "python",
   "name": "python3"
  },
  "language_info": {
   "codemirror_mode": {
    "name": "ipython",
    "version": 3
   },
   "file_extension": ".py",
   "mimetype": "text/x-python",
   "name": "python",
   "nbconvert_exporter": "python",
   "pygments_lexer": "ipython3",
   "version": "3.7.1"
  }
 },
 "nbformat": 4,
 "nbformat_minor": 2
}
